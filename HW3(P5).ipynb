{
  "nbformat": 4,
  "nbformat_minor": 0,
  "metadata": {
    "colab": {
      "provenance": [],
      "authorship_tag": "ABX9TyNjKqCf5tyaNiX6oDV7AXAJ",
      "include_colab_link": true
    },
    "kernelspec": {
      "name": "python3",
      "display_name": "Python 3"
    },
    "language_info": {
      "name": "python"
    }
  },
  "cells": [
    {
      "cell_type": "markdown",
      "metadata": {
        "id": "view-in-github",
        "colab_type": "text"
      },
      "source": [
        "<a href=\"https://colab.research.google.com/github/WestonMadeira1/HW_3/blob/main/HW3(P5).ipynb\" target=\"_parent\"><img src=\"https://colab.research.google.com/assets/colab-badge.svg\" alt=\"Open In Colab\"/></a>"
      ]
    },
    {
      "cell_type": "code",
      "source": [
        "import numpy as np\n",
        "from sklearn.datasets import load_breast_cancer\n",
        "from sklearn.model_selection import train_test_split\n",
        "from sklearn.preprocessing import StandardScaler\n",
        "from sklearn.decomposition import PCA\n",
        "from sklearn.naive_bayes import GaussianNB\n",
        "from sklearn.metrics import accuracy_score, precision_score, recall_score, f1_score\n",
        "from google.colab import drive\n",
        "drive.mount('/content/drive')\n",
        "\n",
        "# Load the breast cancer dataset\n",
        "file_path = '/content/drive/My Drive/ML Data/cancer.csv'\n",
        "dataset = pd.DataFrame(pd.read_csv(file_path))\n",
        "varlist =  ['diagnosis']\n",
        "\n",
        "def binary_map(x):\n",
        "    return x.map({'M': 1, 'B': 0})\n",
        "\n",
        "dataset[varlist] = dataset[varlist].apply(binary_map)\n",
        "X = dataset.iloc[:, [2,3,4,5,6,7,8,9,10,11,12,13,14,15,16,17,18,19,20,21,22,23,24,25,26,27,28,29,30,31]].values\n",
        "Y = dataset.iloc[:, 1].values\n",
        "\n",
        "# Split the data into training and testing sets\n",
        "X_train, X_test, y_train, y_test = train_test_split(X, y, test_size=0.2, random_state=0)\n",
        "\n",
        "# Standardize the data\n",
        "scaler = StandardScaler()\n",
        "X_train = scaler.fit_transform(X_train)\n",
        "X_test = scaler.transform(X_test)\n",
        "\n",
        "# Loop through different numbers of principal components (K)\n",
        "K_values = list(range(1, 31))\n",
        "results = []\n",
        "\n",
        "for K in K_values:\n",
        "    # Apply PCA for dimensionality reduction\n",
        "    pca = PCA(n_components=K)\n",
        "    X_train_pca = pca.fit_transform(X_train)\n",
        "    X_test_pca = pca.transform(X_test)\n",
        "\n",
        "    # Train a logistic regression model\n",
        "    model = GaussianNB()\n",
        "    model.fit(X_train_pca, y_train)\n",
        "\n",
        "    # Make predictions\n",
        "    y_pred = model.predict(X_test_pca)\n",
        "\n",
        "    # Calculate evaluation metrics\n",
        "    accuracy = accuracy_score(y_test, y_pred)\n",
        "    precision = precision_score(y_test, y_pred)\n",
        "    recall = recall_score(y_test, y_pred)\n",
        "    f1 = f1_score(y_test, y_pred)\n",
        "\n",
        "    results.append((K, accuracy, precision, recall, f1))\n",
        "\n",
        "# Find the K with the highest accuracy\n",
        "best_K, best_accuracy, best_precision, best_recall, best_f1 = max(results, key=lambda x: x[1])\n",
        "\n",
        "# Print results\n",
        "print(f\"Best K: {best_K}\")\n",
        "print(f\"Best Accuracy: {best_accuracy:.4f}\")\n",
        "print(f\"Best Precision: {best_precision:.4f}\")\n",
        "print(f\"Best Recall: {best_recall:.4f}\")\n",
        "print(f\"Best F1 Score: {best_f1:.4f}\")\n"
      ],
      "metadata": {
        "colab": {
          "base_uri": "https://localhost:8080/"
        },
        "id": "D3LE2VIcANIk",
        "outputId": "039b35ac-87b7-4dae-b721-74153b8bb8ca"
      },
      "execution_count": 11,
      "outputs": [
        {
          "output_type": "stream",
          "name": "stdout",
          "text": [
            "Drive already mounted at /content/drive; to attempt to forcibly remount, call drive.mount(\"/content/drive\", force_remount=True).\n",
            "Best K: 5\n",
            "Best Accuracy: 0.9211\n",
            "Best Precision: 0.9143\n",
            "Best Recall: 0.9552\n",
            "Best F1 Score: 0.9343\n"
          ]
        }
      ]
    }
  ]
}